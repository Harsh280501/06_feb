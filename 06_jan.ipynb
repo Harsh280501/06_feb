{
 "cells": [
  {
   "cell_type": "markdown",
   "id": "fc8e0da2-8944-47f6-93fa-9d6946216921",
   "metadata": {},
   "source": [
    "# Q1. Create a function which will take a list as an argument and return the product of all the numbers after creating a flat list. Use the below-given list as an argument for your function. list1 = [1,2,3,4, [44,55,66, True], False, (34,56,78,89,34), {1,2,3,3,2,1}, {1:34, \"key2\": [55, 67, 78,89], 4: (45,22, 61, 34)}, [56, 'data science'], 'Machine Learning']"
   ]
  },
  {
   "cell_type": "code",
   "execution_count": 1,
   "id": "6415407e-5f47-472f-8cd0-86d0bad79047",
   "metadata": {},
   "outputs": [],
   "source": [
    "l = [1,2,3,4, [44,55,66, True], False, (34,56,78,89,34), {1,2,3,3,2,1}, {1:34, \"key2\": [55, 67, 78,89], 4: (45,22, 61, 34)}, [56, 'data science'], 'Machine Learning']\n",
    "l\n",
    "\n",
    "flat_list = []"
   ]
  },
  {
   "cell_type": "code",
   "execution_count": 2,
   "id": "84b10842-acf9-40c2-a1e6-629e8f696922",
   "metadata": {},
   "outputs": [],
   "source": [
    "def test(l):\n",
    "    \n",
    "    for i in l:\n",
    "        # for integer in list\n",
    "        if type(i) == int:\n",
    "            flat_list.append(i)\n",
    "        \n",
    "        # for list in list\n",
    "        elif type(i) == list:\n",
    "            for j in i:\n",
    "                # for integer in inside_list \n",
    "                if type(j) == int:\n",
    "                    flat_list.append(j)\n",
    "         # for set in list                   \n",
    "        elif type(i) == set:\n",
    "            for m in i:\n",
    "                # for integer in inside_list\n",
    "                if type(m) == int:\n",
    "                    flat_list.append(m)\n",
    "                else:\n",
    "                    pass\n",
    "                \n",
    "        # for tuple in list\n",
    "        elif type(i) == tuple:\n",
    "            for l in i:\n",
    "                        # for integer in inside_list\n",
    "                if type(l) == int:\n",
    "                    flat_list.append(l)\n",
    "                else:\n",
    "                    pass\n",
    "                \n",
    "                \n",
    "        elif type(i) == dict:\n",
    "            for k,v in i.items():\n",
    "                if type(k) == int:\n",
    "                    if type(v) == int :\n",
    "                        flat_list.append(v)\n",
    "                    elif type(v) == tuple:\n",
    "                        for n in v:\n",
    "                            if type(n) == int :\n",
    "                                flat_list.append(n)\n",
    "                elif type(k) == str :\n",
    "                    if type(v) == list:\n",
    "                        for o in v :\n",
    "                            if type(o) == int:\n",
    "                                flat_list.append(o)\n",
    "                        \n",
    "        else:\n",
    "            continue\n",
    "\n",
    "    return flat_list\n",
    "                        \n",
    "                "
   ]
  },
  {
   "cell_type": "code",
   "execution_count": 3,
   "id": "46bcf74d-63c3-4407-9db0-02254dde1c5a",
   "metadata": {},
   "outputs": [],
   "source": [
    "def product(flat_list):\n",
    "    \n",
    "    product = 1\n",
    "    for i in flat_list:\n",
    "        \n",
    "        product = product * i\n",
    "        \n",
    "    return product\n",
    "\n",
    "   "
   ]
  },
  {
   "cell_type": "code",
   "execution_count": 4,
   "id": "7d4d50c2-7f2c-4fec-b36e-81ab158bb2fa",
   "metadata": {},
   "outputs": [],
   "source": [
    "prod = product(test(l))"
   ]
  },
  {
   "cell_type": "code",
   "execution_count": 5,
   "id": "95a9a5e7-277f-4ff3-8337-73712dd311f8",
   "metadata": {},
   "outputs": [
    {
     "name": "stdout",
     "output_type": "stream",
     "text": [
      "1033677959746771369708460310528000\n"
     ]
    }
   ],
   "source": [
    "print(prod)"
   ]
  },
  {
   "cell_type": "markdown",
   "id": "1ec6ed41-2e38-4e44-a7e4-8d73affb69b9",
   "metadata": {},
   "source": [
    "# Q2. Write a python program for encrypting a message sent to you by your friend. The logic of encryption should be such that, for a the output should be z. For b, the output should be y. For c, the output should be x respectively. Also, the whitespace should be replaced with a dollar sign. Keep the punctuation marks unchanged.Input Sentence: I want to become a Data Scientist."
   ]
  },
  {
   "cell_type": "code",
   "execution_count": 6,
   "id": "b22428b1-2788-411a-a18b-67f13231d09d",
   "metadata": {},
   "outputs": [
    {
     "data": {
      "text/plain": [
       "'i$want$to$become$a$data$scientist.'"
      ]
     },
     "execution_count": 6,
     "metadata": {},
     "output_type": "execute_result"
    }
   ],
   "source": [
    "msg = \"I want to become a Data Scientist.\"\n",
    "msg = msg.lower()\n",
    "encrypt = \"\"\n",
    "\n",
    "\n",
    "\n",
    "dicti = {\".\":-1,\"$\":0,\"a\":1,\"b\":2,\"c\":3,\"d\":4,\"e\":5,\"f\":6,\"g\":7,\"h\":8,\"i\":9,\"j\":10,\"k\":11,\"l\":12,\"m\":13,\"n\":14,\"o\":15,\"p\":16,\"q\":17,\"r\":18,\"s\":19,\"t\":20,\"u\":21,\"v\":22,\"w\":23,\"x\":24,\"y\":25,\"z\":26,}\n",
    "msg = msg.replace(\" \" , \"$\")\n",
    "\n",
    "remain_list = []\n",
    "msg\n",
    "\n",
    "msg\n"
   ]
  },
  {
   "cell_type": "code",
   "execution_count": 7,
   "id": "87a9a8a6-a10c-4085-8337-d0f028c5d128",
   "metadata": {},
   "outputs": [],
   "source": [
    "def fun(msg,encrypt):\n",
    "\n",
    "    for char in msg:\n",
    "        for k,v in dicti.items():\n",
    "            if char == k:\n",
    "                remain = 26 - v + 1 \n",
    "                remain_list.append(remain)\n",
    "    for index in remain_list:\n",
    "        for k,v in dicti.items():\n",
    "            if index == v :\n",
    "                encrypt = encrypt + k\n",
    "            elif index == 27:\n",
    "                encrypt = encrypt + \"$\"\n",
    "                break\n",
    "            elif index == 28:\n",
    "                encrypt = encrypt + \".\"\n",
    "                break\n",
    "            else : \n",
    "                continue\n",
    "\n",
    "\n",
    "    return encrypt\n"
   ]
  },
  {
   "cell_type": "code",
   "execution_count": 8,
   "id": "24a8c846-7375-42f4-a785-f6eb9bea5f1d",
   "metadata": {},
   "outputs": [
    {
     "name": "stdout",
     "output_type": "stream",
     "text": [
      "r$dzmg$gl$yvxlnv$z$wzgz$hxrvmgrhg.\n"
     ]
    }
   ],
   "source": [
    "a = fun(msg,encrypt)\n",
    "print(a)"
   ]
  }
 ],
 "metadata": {
  "kernelspec": {
   "display_name": "Python 3 (ipykernel)",
   "language": "python",
   "name": "python3"
  },
  "language_info": {
   "codemirror_mode": {
    "name": "ipython",
    "version": 3
   },
   "file_extension": ".py",
   "mimetype": "text/x-python",
   "name": "python",
   "nbconvert_exporter": "python",
   "pygments_lexer": "ipython3",
   "version": "3.10.8"
  }
 },
 "nbformat": 4,
 "nbformat_minor": 5
}
